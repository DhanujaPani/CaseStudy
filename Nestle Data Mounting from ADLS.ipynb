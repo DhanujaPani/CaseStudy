{
 "cells": [
  {
   "cell_type": "code",
   "execution_count": 0,
   "metadata": {
    "application/vnd.databricks.v1+cell": {
     "cellMetadata": {
      "byteLimit": 2048000,
      "rowLimit": 10000
     },
     "inputWidgets": {},
     "nuid": "d044396f-93ae-40ba-ab81-19a565d165f3",
     "showTitle": false,
     "title": ""
    }
   },
   "outputs": [],
   "source": [
    "adlsAccountName=\"storingfiles\"                                                                                                   \n",
    "adlsContainerName=\"standardisedfiles\" \n",
    "#adlsFolderName=\"test\"                                             \n",
    "mountPoint=\"/mnt/standardisedfiles\""
   ]
  },
  {
   "cell_type": "code",
   "execution_count": 0,
   "metadata": {
    "application/vnd.databricks.v1+cell": {
     "cellMetadata": {
      "byteLimit": 2048000,
      "rowLimit": 10000
     },
     "inputWidgets": {},
     "nuid": "4c11e4c8-a947-4b26-bfac-7b8efc36e08b",
     "showTitle": false,
     "title": ""
    }
   },
   "outputs": [],
   "source": [
    "clientId=dbutils.secrets.get(scope=\"scopedhanuja\",key='clientId')\n",
    "tenantId=dbutils.secrets.get(scope=\"scopedhanuja\",key='tenantId')\n",
    "authenticationKey=dbutils.secrets.get(scope=\"scopedhanuja\",key='authenticationKey')"
   ]
  },
  {
   "cell_type": "code",
   "execution_count": 0,
   "metadata": {
    "application/vnd.databricks.v1+cell": {
     "cellMetadata": {},
     "inputWidgets": {},
     "nuid": "a74b3b66-d9b2-44f5-9326-13c526f5785e",
     "showTitle": false,
     "title": ""
    }
   },
   "outputs": [],
   "source": [
    "dbutils.fs.unmount(\"/mnt/standardisedfiles\")"
   ]
  },
  {
   "cell_type": "code",
   "execution_count": 0,
   "metadata": {
    "application/vnd.databricks.v1+cell": {
     "cellMetadata": {
      "byteLimit": 2048000,
      "rowLimit": 10000
     },
     "inputWidgets": {},
     "nuid": "896bed74-33b6-4140-a269-4e9d8f6ee186",
     "showTitle": false,
     "title": ""
    }
   },
   "outputs": [
    {
     "output_type": "execute_result",
     "data": {
      "text/plain": [
       "True"
      ]
     },
     "execution_count": 3,
     "metadata": {},
     "output_type": "execute_result"
    }
   ],
   "source": [
    "configs = {\"fs.azure.account.auth.type\": \"OAuth\",\n",
    "          \"fs.azure.account.oauth.provider.type\": \"org.apache.hadoop.fs.azurebfs.oauth2.ClientCredsTokenProvider\",\n",
    "          \"fs.azure.account.oauth2.client.id\": clientId,\n",
    "          \"fs.azure.account.oauth2.client.secret\": authenticationKey,\n",
    "          \"fs.azure.account.oauth2.client.endpoint\": \"https://login.microsoftonline.com/\"+tenantId+\"/oauth2/token\"}\n",
    "\n",
    "# Optionally, you can add <directory-name> to the source URI of your mount point.\n",
    "dbutils.fs.mount(\n",
    "  source = \"abfss://standardisedfiles@storingfiles.dfs.core.windows.net\",\n",
    "  mount_point = mountPoint,\n",
    "  extra_configs = configs)"
   ]
  },
  {
   "cell_type": "code",
   "execution_count": 0,
   "metadata": {
    "application/vnd.databricks.v1+cell": {
     "cellMetadata": {
      "byteLimit": 2048000,
      "rowLimit": 10000
     },
     "inputWidgets": {},
     "nuid": "8fc91150-4a9a-4df2-84d1-60219f3bde34",
     "showTitle": false,
     "title": ""
    }
   },
   "outputs": [
    {
     "output_type": "display_data",
     "data": {
      "text/html": [
       "<style scoped>\n",
       "  .table-result-container {\n",
       "    max-height: 300px;\n",
       "    overflow: auto;\n",
       "  }\n",
       "  table, th, td {\n",
       "    border: 1px solid black;\n",
       "    border-collapse: collapse;\n",
       "  }\n",
       "  th, td {\n",
       "    padding: 5px;\n",
       "  }\n",
       "  th {\n",
       "    text-align: left;\n",
       "  }\n",
       "</style><div class='table-result-container'><table class='table-result'><thead style='background-color: white'><tr><th>path</th><th>name</th><th>size</th><th>modificationTime</th></tr></thead><tbody><tr><td>dbfs:/mnt/standardisedfiles/DIM.csv</td><td>DIM.csv</td><td>98</td><td>1683621709000</td></tr><tr><td>dbfs:/mnt/standardisedfiles/FACT.csv</td><td>FACT.csv</td><td>339454</td><td>1683621710000</td></tr><tr><td>dbfs:/mnt/standardisedfiles/FCT.csv</td><td>FCT.csv</td><td>5634</td><td>1683621710000</td></tr><tr><td>dbfs:/mnt/standardisedfiles/META.txt</td><td>META.txt</td><td>1345</td><td>1683621708000</td></tr><tr><td>dbfs:/mnt/standardisedfiles/MKT.csv</td><td>MKT.csv</td><td>1082</td><td>1683621710000</td></tr><tr><td>dbfs:/mnt/standardisedfiles/PER.csv</td><td>PER.csv</td><td>1666</td><td>1683621710000</td></tr><tr><td>dbfs:/mnt/standardisedfiles/PROD.csv</td><td>PROD.csv</td><td>14409</td><td>1683621708000</td></tr></tbody></table></div>"
      ]
     },
     "metadata": {
      "application/vnd.databricks.v1+output": {
       "addedWidgets": {},
       "aggData": [],
       "aggError": "",
       "aggOverflow": false,
       "aggSchema": [],
       "aggSeriesLimitReached": false,
       "aggType": "",
       "arguments": {},
       "columnCustomDisplayInfos": {},
       "data": [
        [
         "dbfs:/mnt/standardisedfiles/DIM.csv",
         "DIM.csv",
         98,
         1683621709000
        ],
        [
         "dbfs:/mnt/standardisedfiles/FACT.csv",
         "FACT.csv",
         339454,
         1683621710000
        ],
        [
         "dbfs:/mnt/standardisedfiles/FCT.csv",
         "FCT.csv",
         5634,
         1683621710000
        ],
        [
         "dbfs:/mnt/standardisedfiles/META.txt",
         "META.txt",
         1345,
         1683621708000
        ],
        [
         "dbfs:/mnt/standardisedfiles/MKT.csv",
         "MKT.csv",
         1082,
         1683621710000
        ],
        [
         "dbfs:/mnt/standardisedfiles/PER.csv",
         "PER.csv",
         1666,
         1683621710000
        ],
        [
         "dbfs:/mnt/standardisedfiles/PROD.csv",
         "PROD.csv",
         14409,
         1683621708000
        ]
       ],
       "datasetInfos": [],
       "dbfsResultPath": null,
       "isJsonSchema": true,
       "metadata": {
        "isDbfsCommandResult": false
       },
       "overflow": false,
       "plotOptions": {
        "customPlotOptions": {},
        "displayType": "table",
        "pivotAggregation": null,
        "pivotColumns": null,
        "xColumns": null,
        "yColumns": null
       },
       "removedWidgets": [],
       "schema": [
        {
         "metadata": "{}",
         "name": "path",
         "type": "\"string\""
        },
        {
         "metadata": "{}",
         "name": "name",
         "type": "\"string\""
        },
        {
         "metadata": "{}",
         "name": "size",
         "type": "\"long\""
        },
        {
         "metadata": "{}",
         "name": "modificationTime",
         "type": "\"long\""
        }
       ],
       "type": "table"
      }
     },
     "output_type": "display_data"
    }
   ],
   "source": [
    "%fs\n",
    "ls \"/mnt/standardisedfiles\""
   ]
  }
 ],
 "metadata": {
  "application/vnd.databricks.v1+notebook": {
   "dashboards": [],
   "language": "python",
   "notebookMetadata": {
    "mostRecentlyExecutedCommandWithImplicitDF": {
     "commandId": 1384202534944577,
     "dataframes": [
      "_sqldf"
     ]
    },
    "pythonIndentUnit": 4
   },
   "notebookName": "Nestle Data Mounting from ADLS",
   "widgets": {}
  }
 },
 "nbformat": 4,
 "nbformat_minor": 0
}
